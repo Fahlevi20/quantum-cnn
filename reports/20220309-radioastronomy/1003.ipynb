{
 "cells": [
  {
   "cell_type": "code",
   "execution_count": 1,
   "id": "1a5dd725-c0b6-4f02-a04e-e8b8b3ca49fa",
   "metadata": {},
   "outputs": [],
   "source": [
    "import os\n",
    "import sys\n",
    "import inspect\n",
    "\n",
    "# Insert modules directory, TODO create setup.py file\n",
    "currentdir = os.path.dirname(os.path.abspath(inspect.getfile(inspect.currentframe())))\n",
    "reports_dir = os.path.dirname(currentdir)\n",
    "project_home_dir = os.path.dirname(reports_dir)\n",
    "sys.path.insert(0, f\"{project_home_dir}/qcnn\")"
   ]
  },
  {
   "cell_type": "code",
   "execution_count": 2,
   "id": "9afe8979-96b5-48ea-bb60-371d8b613184",
   "metadata": {},
   "outputs": [
    {
     "name": "stderr",
     "output_type": "stream",
     "text": [
      "<ipython-input-2-ada13ff87660>:8: DeprecationWarning: Importing display from IPython.core.display is deprecated since IPython 7.14, please import from IPython display\n",
      "  from IPython.core.display import display, HTML\n"
     ]
    }
   ],
   "source": [
    "import numpy as np\n",
    "import pandas as pd\n",
    "from joblib import dump, load\n",
    "from collections import namedtuple\n",
    "from IPython.display import display\n",
    "from pprint import pprint\n",
    "from circuit_presets import get_wire_combos\n",
    "from IPython.core.display import display, HTML\n",
    "from reporting_functions import (\n",
    "    get_file_content,\n",
    "    confusion_matrix_stats,\n",
    "    get_result_table,\n",
    "    get_result_table_target_pairs,\n",
    "    gather_results_0_12,\n",
    "    get_experiment_config,\n",
    "    get_model_names,\n",
    "    plot_loss,\n",
    "    get_line_plot_data,\n",
    "    plot_119_accuracy_per_structure,\n",
    "    gather_results_118_135,\n",
    "    gather_resultdf_1000,\n",
    "    gather_result_list_1000,\n",
    "    get_model_result_list,\n",
    "    get_circuit_diagram,\n",
    "    get_wire_combos_graph\n",
    ")\n",
    "path_experiments = f\"{project_home_dir}/experiments\"\n",
    "\n",
    "def display_side_by_side(dfs:list, captions:list):\n",
    "    \"\"\"Display tables side by side to save vertical space\n",
    "    Input:\n",
    "        dfs: list of pandas.DataFrame\n",
    "        captions: list of table captions\n",
    "    \"\"\"\n",
    "    output = \"\"\n",
    "    combined = dict(zip(captions, dfs))\n",
    "    for caption, df in combined.items():\n",
    "        output += df.style.set_table_attributes(\"style='display:inline'\").set_caption(caption)._repr_html_()\n",
    "        output += \"\\xa0\\xa0\\xa0\"\n",
    "    display(HTML(output))"
   ]
  },
  {
   "cell_type": "code",
   "execution_count": 52,
   "id": "1da7b9f8-2ac2-49e2-b2ec-ba5330de8bc0",
   "metadata": {},
   "outputs": [
    {
     "name": "stderr",
     "output_type": "stream",
     "text": [
      "/home/matt/dev/projects/quantum-cnn/env_test/lib/python3.8/site-packages/sklearn/metrics/_classification.py:1318: UndefinedMetricWarning: Precision and F-score are ill-defined and being set to 0.0 due to no predicted samples. Use `zero_division` parameter to control this behavior.\n",
      "  _warn_prf(average, modifier, msg_start, len(result))\n"
     ]
    }
   ],
   "source": [
    "from reporting_functions import (\n",
    "    plot_triangle_accuracies,\n",
    "    get_result_table_target_pairs,\n",
    "    gather_results_118_135,\n",
    ")\n",
    "\n",
    "exp_id = 1003\n",
    "result_list = gather_result_list_1000(exp_id, path_experiments=path_experiments)\n",
    "result_data = gather_resultdf_1000(result_list)\n",
    "pair_data = get_result_table_target_pairs(\n",
    "    result_data, \"algorithm\", \"target_pair_str\", \"accuracy\"\n",
    ")\n",
    "# figsize = (12, 12)\n",
    "# plot_data = pair_data.fillna(1)\n",
    "# plt = plot_triangle_accuracies(\n",
    "#     plot_data, figsize, title=\"Accuracy for genre pairs, Classical 9 paramaters\"\n",
    "# )\n",
    "# plt.savefig(\"classical_best_10_pair.svg\")"
   ]
  },
  {
   "cell_type": "code",
   "execution_count": 53,
   "id": "eda46497-c769-4a47-b68d-d3c912f1752b",
   "metadata": {},
   "outputs": [
    {
     "name": "stdout",
     "output_type": "stream",
     "text": [
      "tree svm\n"
     ]
    }
   ],
   "source": [
    "result = result_list[1]\n",
    "# print(result.model_configuration.algorithm)\n",
    "print(result.model_configuration.selection_method, result.model_configuration.algorithm)"
   ]
  },
  {
   "cell_type": "code",
   "execution_count": 54,
   "id": "5e640457-8fee-4db9-87bf-b459f5f5deb1",
   "metadata": {},
   "outputs": [
    {
     "data": {
      "image/png": "[encoded data removed]",
      "text/plain": [
       "<Figure size 720x720 with 2 Axes>"
      ]
     },
     "metadata": {},
     "output_type": "display_data"
    }
   ],
   "source": [
    "from sklearn.metrics import confusion_matrix,ConfusionMatrixDisplay, classification_report\n",
    "import matplotlib.pyplot as plt\n",
    "import seaborn as sns\n",
    "cf_matrix = confusion_matrix(result.samples_tfd.y_test, result.y_test_hat)\n",
    "\n",
    "figsize = (10,10)\n",
    "with sns.axes_style(\"whitegrid\"):\n",
    "    f, ax = plt.subplots(figsize=figsize)\n",
    "    ax.set_title(\"Confusion matrix\")\n",
    "    sns.heatmap(\n",
    "        cf_matrix,\n",
    "        annot=True,\n",
    "        fmt=\"0\",\n",
    "        ax=ax,\n",
    "        vmin=0.3,\n",
    "        cmap=sns.dark_palette(\"#28708a\", reverse=False, as_cmap=True),\n",
    "       # mask=mask,\n",
    "    )"
   ]
  },
  {
   "cell_type": "code",
   "execution_count": 55,
   "id": "d2a4c2ce-44a3-452b-9842-1a8914c6b357",
   "metadata": {},
   "outputs": [
    {
     "name": "stdout",
     "output_type": "stream",
     "text": [
      "              precision    recall  f1-score   support\n",
      "\n",
      "           0       0.98      1.00      0.99      4884\n",
      "           1       0.95      0.80      0.87       486\n",
      "\n",
      "    accuracy                           0.98      5370\n",
      "   macro avg       0.96      0.90      0.93      5370\n",
      "weighted avg       0.98      0.98      0.98      5370\n",
      "\n"
     ]
    }
   ],
   "source": [
    "print(classification_report(result.samples_tfd.y_test, result.y_test_hat))"
   ]
  },
  {
   "cell_type": "code",
   "execution_count": 56,
   "id": "617a53da-4d29-4688-b651-cf588a7ee852",
   "metadata": {},
   "outputs": [
    {
     "name": "stdout",
     "output_type": "stream",
     "text": [
      "tree logistic_regression\n"
     ]
    }
   ],
   "source": [
    "result = result_list[2]\n",
    "print(result.model_configuration.selection_method, result.model_configuration.algorithm)"
   ]
  },
  {
   "cell_type": "code",
   "execution_count": 57,
   "id": "9b40cdc0-d908-44d9-a113-18734a411734",
   "metadata": {},
   "outputs": [
    {
     "data": {
      "image/png": "[encoded data removed]",
      "text/plain": [
       "<Figure size 720x720 with 2 Axes>"
      ]
     },
     "metadata": {},
     "output_type": "display_data"
    }
   ],
   "source": [
    "from sklearn.metrics import confusion_matrix,ConfusionMatrixDisplay, classification_report\n",
    "import matplotlib.pyplot as plt\n",
    "import seaborn as sns\n",
    "cf_matrix = confusion_matrix(result.samples_tfd.y_test, result.y_test_hat)\n",
    "\n",
    "figsize = (10,10)\n",
    "with sns.axes_style(\"whitegrid\"):\n",
    "    f, ax = plt.subplots(figsize=figsize)\n",
    "    ax.set_title(\"Confusion matrix\")\n",
    "    sns.heatmap(\n",
    "        cf_matrix,\n",
    "        annot=True,\n",
    "        fmt=\"0\",\n",
    "        ax=ax,\n",
    "        vmin=0.3,\n",
    "        cmap=sns.dark_palette(\"#28708a\", reverse=False, as_cmap=True),\n",
    "       # mask=mask,\n",
    "    )"
   ]
  },
  {
   "cell_type": "code",
   "execution_count": 58,
   "id": "f4f8d303-c2e8-44f7-b6f7-7770de39baa8",
   "metadata": {},
   "outputs": [
    {
     "name": "stdout",
     "output_type": "stream",
     "text": [
      "              precision    recall  f1-score   support\n",
      "\n",
      "           0       0.98      1.00      0.99      4884\n",
      "           1       0.95      0.79      0.86       486\n",
      "\n",
      "    accuracy                           0.98      5370\n",
      "   macro avg       0.96      0.89      0.92      5370\n",
      "weighted avg       0.98      0.98      0.98      5370\n",
      "\n"
     ]
    }
   ],
   "source": [
    "print(classification_report(result.samples_tfd.y_test, result.y_test_hat))"
   ]
  },
  {
   "cell_type": "code",
   "execution_count": 59,
   "id": "1111a6b8-12df-47cf-aab9-318d35ed0ebb",
   "metadata": {},
   "outputs": [
    {
     "name": "stdout",
     "output_type": "stream",
     "text": [
      "pca svm\n"
     ]
    }
   ],
   "source": [
    "result = result_list[3]\n",
    "print(result.model_configuration.selection_method, result.model_configuration.algorithm)"
   ]
  },
  {
   "cell_type": "code",
   "execution_count": 60,
   "id": "7a04bcb1-3ad7-48e1-a8f1-d79c284504c9",
   "metadata": {},
   "outputs": [
    {
     "data": {
      "image/png": "[encoded data removed]",
      "text/plain": [
       "<Figure size 720x720 with 2 Axes>"
      ]
     },
     "metadata": {},
     "output_type": "display_data"
    }
   ],
   "source": [
    "from sklearn.metrics import confusion_matrix,ConfusionMatrixDisplay, classification_report\n",
    "import matplotlib.pyplot as plt\n",
    "import seaborn as sns\n",
    "cf_matrix = confusion_matrix(result.samples_tfd.y_test, result.y_test_hat)\n",
    "\n",
    "figsize = (10,10)\n",
    "with sns.axes_style(\"whitegrid\"):\n",
    "    f, ax = plt.subplots(figsize=figsize)\n",
    "    ax.set_title(\"Confusion matrix\")\n",
    "    sns.heatmap(\n",
    "        cf_matrix,\n",
    "        annot=True,\n",
    "        fmt=\"0\",\n",
    "        ax=ax,\n",
    "        vmin=0.3,\n",
    "        cmap=sns.dark_palette(\"#28708a\", reverse=False, as_cmap=True),\n",
    "       # mask=mask,\n",
    "    )"
   ]
  },
  {
   "cell_type": "code",
   "execution_count": 61,
   "id": "0a465633-d371-4639-97fc-47d0cb01eb0c",
   "metadata": {},
   "outputs": [
    {
     "name": "stdout",
     "output_type": "stream",
     "text": [
      "              precision    recall  f1-score   support\n",
      "\n",
      "           0       0.98      1.00      0.99      4884\n",
      "           1       0.95      0.83      0.88       486\n",
      "\n",
      "    accuracy                           0.98      5370\n",
      "   macro avg       0.96      0.91      0.94      5370\n",
      "weighted avg       0.98      0.98      0.98      5370\n",
      "\n"
     ]
    }
   ],
   "source": [
    "print(classification_report(result.samples_tfd.y_test, result.y_test_hat))"
   ]
  },
  {
   "cell_type": "code",
   "execution_count": 62,
   "id": "f4417795-9f01-4b8e-900d-fcf662b78fb8",
   "metadata": {},
   "outputs": [
    {
     "name": "stdout",
     "output_type": "stream",
     "text": [
      "pca logistic_regression\n"
     ]
    }
   ],
   "source": [
    "result = result_list[4]\n",
    "print(result.model_configuration.selection_method, result.model_configuration.algorithm)"
   ]
  },
  {
   "cell_type": "code",
   "execution_count": 63,
   "id": "b4215ebf-b39c-45a0-a8a7-9645c338ebe9",
   "metadata": {},
   "outputs": [
    {
     "data": {
      "image/png": "[encoded data removed]",
      "text/plain": [
       "<Figure size 720x720 with 2 Axes>"
      ]
     },
     "metadata": {},
     "output_type": "display_data"
    }
   ],
   "source": [
    "from sklearn.metrics import confusion_matrix,ConfusionMatrixDisplay, classification_report\n",
    "import matplotlib.pyplot as plt\n",
    "import seaborn as sns\n",
    "cf_matrix = confusion_matrix(result.samples_tfd.y_test, result.y_test_hat)\n",
    "\n",
    "figsize = (10,10)\n",
    "with sns.axes_style(\"whitegrid\"):\n",
    "    f, ax = plt.subplots(figsize=figsize)\n",
    "    ax.set_title(\"Confusion matrix\")\n",
    "    sns.heatmap(\n",
    "        cf_matrix,\n",
    "        annot=True,\n",
    "        fmt=\"0\",\n",
    "        ax=ax,\n",
    "        vmin=0.3,\n",
    "        cmap=sns.dark_palette(\"#28708a\", reverse=False, as_cmap=True),\n",
    "       # mask=mask,\n",
    "    )"
   ]
  },
  {
   "cell_type": "code",
   "execution_count": 64,
   "id": "ac9dbac0-1a56-4e4e-aa3d-53acffbf503a",
   "metadata": {},
   "outputs": [
    {
     "name": "stdout",
     "output_type": "stream",
     "text": [
      "              precision    recall  f1-score   support\n",
      "\n",
      "           0       0.98      0.99      0.99      4884\n",
      "           1       0.94      0.82      0.88       486\n",
      "\n",
      "    accuracy                           0.98      5370\n",
      "   macro avg       0.96      0.91      0.93      5370\n",
      "weighted avg       0.98      0.98      0.98      5370\n",
      "\n"
     ]
    }
   ],
   "source": [
    "print(classification_report(result.samples_tfd.y_test, result.y_test_hat))"
   ]
  },
  {
   "cell_type": "code",
   "execution_count": 65,
   "id": "97051058-1a45-4d09-b40c-10c26b00158d",
   "metadata": {},
   "outputs": [
    {
     "name": "stdout",
     "output_type": "stream",
     "text": [
      "pca simple\n"
     ]
    }
   ],
   "source": [
    "result = result_list[5]\n",
    "print(result.model_configuration.selection_method, result.model_configuration.algorithm)"
   ]
  },
  {
   "cell_type": "code",
   "execution_count": 66,
   "id": "ea4444f5-25f0-444c-a8e3-8445f6a31170",
   "metadata": {},
   "outputs": [
    {
     "data": {
      "image/png": "[encoded data removed]",
      "text/plain": [
       "<Figure size 720x720 with 2 Axes>"
      ]
     },
     "metadata": {},
     "output_type": "display_data"
    }
   ],
   "source": [
    "from sklearn.metrics import confusion_matrix,ConfusionMatrixDisplay, classification_report\n",
    "import matplotlib.pyplot as plt\n",
    "import seaborn as sns\n",
    "cf_matrix = confusion_matrix(result.samples_tfd.y_test, result.y_test_hat)\n",
    "\n",
    "figsize = (10,10)\n",
    "with sns.axes_style(\"whitegrid\"):\n",
    "    f, ax = plt.subplots(figsize=figsize)\n",
    "    ax.set_title(\"Confusion matrix\")\n",
    "    sns.heatmap(\n",
    "        cf_matrix,\n",
    "        annot=True,\n",
    "        fmt=\"0\",\n",
    "        ax=ax,\n",
    "        vmin=0.3,\n",
    "        cmap=sns.dark_palette(\"#28708a\", reverse=False, as_cmap=True),\n",
    "       # mask=mask,\n",
    "    )"
   ]
  },
  {
   "cell_type": "code",
   "execution_count": 67,
   "id": "355ab274-1628-406e-8cbf-8eebe3f1cd18",
   "metadata": {},
   "outputs": [
    {
     "name": "stdout",
     "output_type": "stream",
     "text": [
      "              precision    recall  f1-score   support\n",
      "\n",
      "           0       0.97      1.00      0.98      4884\n",
      "           1       0.97      0.71      0.82       486\n",
      "\n",
      "    accuracy                           0.97      5370\n",
      "   macro avg       0.97      0.85      0.90      5370\n",
      "weighted avg       0.97      0.97      0.97      5370\n",
      "\n"
     ]
    }
   ],
   "source": [
    "print(classification_report(result.samples_tfd.y_test, result.y_test_hat))"
   ]
  },
  {
   "cell_type": "code",
   "execution_count": null,
   "id": "48dc5342-df24-4924-9140-5e005c13339e",
   "metadata": {},
   "outputs": [],
   "source": []
  }
 ],
 "metadata": {
  "kernelspec": {
   "display_name": "qcnn_hep",
   "language": "python",
   "name": "qcnn_hep"
  },
  "language_info": {
   "codemirror_mode": {
    "name": "ipython",
    "version": 3
   },
   "file_extension": ".py",
   "mimetype": "text/x-python",
   "name": "python",
   "nbconvert_exporter": "python",
   "pygments_lexer": "ipython3",
   "version": "3.8.10"
  }
 },
 "nbformat": 4,
 "nbformat_minor": 5
}
