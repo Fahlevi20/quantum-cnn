{
 "cells": [
  {
   "cell_type": "code",
   "execution_count": null,
   "id": "bf13fe98-9817-40b0-943b-a19ac4501a7a",
   "metadata": {},
   "outputs": [],
   "source": [
    "from quantum_models import Qcnn_Classifier\n",
    "\n",
    "qcnn_structure_permutation = [\"U_TTN\", \"psatz1\", {'c_step': 1, 'n_wires': 8, 'p_step': 0, 'pool_pattern': 'left', 'wire_to_cut': 0}]\n",
    "model = Qcnn_Classifier(\n",
    "            layer_defintion=qcnn_structure_permutation,\n",
    "            encoding_type=embedding_type,\n",
    "            encoding_kwargs=encoding_kwargs,\n",
    "        )\n",
    "clf = GridSearchCV(\n",
    "        model, param_grid, n_jobs=n_jobs, cv=cv_folds\n",
    "    )\n",
    "clf.fit(samples_tfd.X_train, samples_tfd.y_train)"
   ]
  }
 ],
 "metadata": {
  "kernelspec": {
   "display_name": "env_qcnn",
   "language": "python",
   "name": "env_qcnn"
  },
  "language_info": {
   "codemirror_mode": {
    "name": "ipython",
    "version": 3
   },
   "file_extension": ".py",
   "mimetype": "text/x-python",
   "name": "python",
   "nbconvert_exporter": "python",
   "pygments_lexer": "ipython3",
   "version": "3.10.1"
  }
 },
 "nbformat": 4,
 "nbformat_minor": 5
}
