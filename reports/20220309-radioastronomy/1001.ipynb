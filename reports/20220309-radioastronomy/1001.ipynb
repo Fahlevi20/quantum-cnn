{
 "cells": [
  {
   "cell_type": "code",
   "execution_count": 1,
   "id": "1a5dd725-c0b6-4f02-a04e-e8b8b3ca49fa",
   "metadata": {},
   "outputs": [],
   "source": [
    "import os\n",
    "import sys\n",
    "import inspect\n",
    "\n",
    "# Insert modules directory, TODO create setup.py file\n",
    "currentdir = os.path.dirname(os.path.abspath(inspect.getfile(inspect.currentframe())))\n",
    "reports_dir = os.path.dirname(currentdir)\n",
    "project_home_dir = os.path.dirname(reports_dir)\n",
    "sys.path.insert(0, f\"{project_home_dir}/qcnn\")"
   ]
  },
  {
   "cell_type": "code",
   "execution_count": 2,
   "id": "9afe8979-96b5-48ea-bb60-371d8b613184",
   "metadata": {},
   "outputs": [
    {
     "name": "stderr",
     "output_type": "stream",
     "text": [
      "<ipython-input-2-ada13ff87660>:8: DeprecationWarning: Importing display from IPython.core.display is deprecated since IPython 7.14, please import from IPython display\n",
      "  from IPython.core.display import display, HTML\n"
     ]
    }
   ],
   "source": [
    "import numpy as np\n",
    "import pandas as pd\n",
    "from joblib import dump, load\n",
    "from collections import namedtuple\n",
    "from IPython.display import display\n",
    "from pprint import pprint\n",
    "from circuit_presets import get_wire_combos\n",
    "from IPython.core.display import display, HTML\n",
    "from reporting_functions import (\n",
    "    get_file_content,\n",
    "    confusion_matrix_stats,\n",
    "    get_result_table,\n",
    "    get_result_table_target_pairs,\n",
    "    gather_results_0_12,\n",
    "    get_experiment_config,\n",
    "    get_model_names,\n",
    "    plot_loss,\n",
    "    get_line_plot_data,\n",
    "    plot_119_accuracy_per_structure,\n",
    "    gather_results_118_135,\n",
    "    gather_resultdf_1000,\n",
    "    gather_result_list_1000,\n",
    "    get_model_result_list,\n",
    "    get_circuit_diagram,\n",
    "    get_wire_combos_graph\n",
    ")\n",
    "path_experiments = f\"{project_home_dir}/experiments\"\n",
    "\n",
    "def display_side_by_side(dfs:list, captions:list):\n",
    "    \"\"\"Display tables side by side to save vertical space\n",
    "    Input:\n",
    "        dfs: list of pandas.DataFrame\n",
    "        captions: list of table captions\n",
    "    \"\"\"\n",
    "    output = \"\"\n",
    "    combined = dict(zip(captions, dfs))\n",
    "    for caption, df in combined.items():\n",
    "        output += df.style.set_table_attributes(\"style='display:inline'\").set_caption(caption)._repr_html_()\n",
    "        output += \"\\xa0\\xa0\\xa0\"\n",
    "    display(HTML(output))"
   ]
  },
  {
   "cell_type": "code",
   "execution_count": 3,
   "id": "1da7b9f8-2ac2-49e2-b2ec-ba5330de8bc0",
   "metadata": {},
   "outputs": [],
   "source": [
    "from reporting_functions import (\n",
    "    plot_triangle_accuracies,\n",
    "    get_result_table_target_pairs,\n",
    "    gather_results_118_135,\n",
    ")\n",
    "\n",
    "exp_id = 1002\n",
    "result_list = gather_result_list_1000(exp_id, path_experiments=path_experiments)\n",
    "result_data = gather_resultdf_1000(result_list)\n",
    "pair_data = get_result_table_target_pairs(\n",
    "    result_data, \"algorithm\", \"target_pair_str\", \"accuracy\"\n",
    ")\n",
    "# figsize = (12, 12)\n",
    "# plot_data = pair_data.fillna(1)\n",
    "# plt = plot_triangle_accuracies(\n",
    "#     plot_data, figsize, title=\"Accuracy for genre pairs, Classical 9 paramaters\"\n",
    "# )\n",
    "# plt.savefig(\"classical_best_10_pair.svg\")"
   ]
  },
  {
   "cell_type": "code",
   "execution_count": 10,
   "id": "eda46497-c769-4a47-b68d-d3c912f1752b",
   "metadata": {},
   "outputs": [
    {
     "data": {
      "text/plain": [
       "array([[<AxesSubplot:title={'center':'Iteration'}>,\n",
       "        <AxesSubplot:title={'center':'Cost'}>],\n",
       "       [<AxesSubplot:title={'center':'Time'}>, <AxesSubplot:>]],\n",
       "      dtype=object)"
      ]
     },
     "execution_count": 10,
     "metadata": {},
     "output_type": "execute_result"
    },
    {
     "data": {
      "image/png": "[encoded data removed]",
      "text/plain": [
       "<Figure size 432x288 with 4 Axes>"
      ]
     },
     "metadata": {
      "needs_background": "light"
     },
     "output_type": "display_data"
    }
   ],
   "source": [
    "pd.DataFrame(result_list[0].clf.best_estimator_.train_history_).hist()"
   ]
  },
  {
   "cell_type": "code",
   "execution_count": 11,
   "id": "5d0e68fa-c0a0-4de2-addf-2e8d05454b38",
   "metadata": {},
   "outputs": [
    {
     "data": {
      "text/html": [
       "<div>\n",
       "<style scoped>\n",
       "    .dataframe tbody tr th:only-of-type {\n",
       "        vertical-align: middle;\n",
       "    }\n",
       "\n",
       "    .dataframe tbody tr th {\n",
       "        vertical-align: top;\n",
       "    }\n",
       "\n",
       "    .dataframe thead th {\n",
       "        text-align: right;\n",
       "    }\n",
       "</style>\n",
       "<table border=\"1\" class=\"dataframe\">\n",
       "  <thead>\n",
       "    <tr style=\"text-align: right;\">\n",
       "      <th></th>\n",
       "      <th>model_name</th>\n",
       "      <th>model_type</th>\n",
       "      <th>algorithm</th>\n",
       "      <th>classification_type</th>\n",
       "      <th>embedding_type</th>\n",
       "      <th>scaler_method</th>\n",
       "      <th>scaler_param_str</th>\n",
       "      <th>selection_method</th>\n",
       "      <th>selection_param_str</th>\n",
       "      <th>target_pair</th>\n",
       "      <th>...</th>\n",
       "      <th>target_pair_str</th>\n",
       "      <th>mean_test_score</th>\n",
       "      <th>std_test_score</th>\n",
       "      <th>params</th>\n",
       "      <th>accuracy</th>\n",
       "      <th>precision</th>\n",
       "      <th>recall</th>\n",
       "      <th>f1</th>\n",
       "      <th>loss_train_history</th>\n",
       "      <th>model_id</th>\n",
       "    </tr>\n",
       "  </thead>\n",
       "  <tbody>\n",
       "    <tr>\n",
       "      <th>0</th>\n",
       "      <td>dd5047e5010141b3a15ebe4fdb226eee</td>\n",
       "      <td>quantum</td>\n",
       "      <td>qcnn</td>\n",
       "      <td>binary</td>\n",
       "      <td>Angle</td>\n",
       "      <td>minmax</td>\n",
       "      <td>feature_range=[0, 1.5707963267948966]</td>\n",
       "      <td>pca</td>\n",
       "      <td>n_components=8</td>\n",
       "      <td>[0, 1]</td>\n",
       "      <td>...</td>\n",
       "      <td>0_1</td>\n",
       "      <td>NaN</td>\n",
       "      <td>NaN</td>\n",
       "      <td>NaN</td>\n",
       "      <td>0.972626</td>\n",
       "      <td>0.908434</td>\n",
       "      <td>0.77572</td>\n",
       "      <td>0.836848</td>\n",
       "      <td>None</td>\n",
       "      <td>dd5047e5010141b3a15ebe4fdb226eee</td>\n",
       "    </tr>\n",
       "  </tbody>\n",
       "</table>\n",
       "<p>1 rows × 24 columns</p>\n",
       "</div>"
      ],
      "text/plain": [
       "                         model_name model_type algorithm classification_type  \\\n",
       "0  dd5047e5010141b3a15ebe4fdb226eee    quantum      qcnn              binary   \n",
       "\n",
       "  embedding_type scaler_method                       scaler_param_str  \\\n",
       "0          Angle        minmax  feature_range=[0, 1.5707963267948966]   \n",
       "\n",
       "  selection_method selection_param_str target_pair  ... target_pair_str  \\\n",
       "0              pca      n_components=8      [0, 1]  ...             0_1   \n",
       "\n",
       "  mean_test_score std_test_score params  accuracy  precision   recall  \\\n",
       "0             NaN            NaN    NaN  0.972626   0.908434  0.77572   \n",
       "\n",
       "         f1  loss_train_history                          model_id  \n",
       "0  0.836848                None  dd5047e5010141b3a15ebe4fdb226eee  \n",
       "\n",
       "[1 rows x 24 columns]"
      ]
     },
     "execution_count": 11,
     "metadata": {},
     "output_type": "execute_result"
    }
   ],
   "source": [
    "result_data"
   ]
  },
  {
   "cell_type": "code",
   "execution_count": 12,
   "id": "5e640457-8fee-4db9-87bf-b459f5f5deb1",
   "metadata": {},
   "outputs": [],
   "source": [
    "from sklearn.metrics import confusion_matrix,ConfusionMatrixDisplay, classification_report\n",
    "import matplotlib.pyplot as plt\n",
    "import seaborn as sns\n",
    "cf_matrix = confusion_matrix(result_list[0].samples_tfd.y_test, result_list[0].y_test_hat)"
   ]
  },
  {
   "cell_type": "code",
   "execution_count": 13,
   "id": "b9c9ce77-3f94-4d3c-b8c9-1b325ef9c649",
   "metadata": {},
   "outputs": [
    {
     "data": {
      "image/png": "[encoded data removed]",
      "text/plain": [
       "<Figure size 720x720 with 2 Axes>"
      ]
     },
     "metadata": {},
     "output_type": "display_data"
    }
   ],
   "source": [
    "figsize = (10,10)\n",
    "with sns.axes_style(\"whitegrid\"):\n",
    "    f, ax = plt.subplots(figsize=figsize)\n",
    "    ax.set_title(\"Confusion matrix\")\n",
    "    sns.heatmap(\n",
    "        cf_matrix,\n",
    "        annot=True,\n",
    "        fmt=\"0\",\n",
    "        ax=ax,\n",
    "        vmin=0.3,\n",
    "        cmap=sns.dark_palette(\"#28708a\", reverse=False, as_cmap=True),\n",
    "       # mask=mask,\n",
    "    )"
   ]
  },
  {
   "cell_type": "code",
   "execution_count": 14,
   "id": "d2a4c2ce-44a3-452b-9842-1a8914c6b357",
   "metadata": {},
   "outputs": [
    {
     "name": "stdout",
     "output_type": "stream",
     "text": [
      "              precision    recall  f1-score   support\n",
      "\n",
      "           0       0.98      0.99      0.99      4884\n",
      "           1       0.91      0.78      0.84       486\n",
      "\n",
      "    accuracy                           0.97      5370\n",
      "   macro avg       0.94      0.88      0.91      5370\n",
      "weighted avg       0.97      0.97      0.97      5370\n",
      "\n"
     ]
    }
   ],
   "source": [
    "print(classification_report(result_list[0].samples_tfd.y_test, result_list[0].y_test_hat))"
   ]
  },
  {
   "cell_type": "code",
   "execution_count": null,
   "id": "617a53da-4d29-4688-b651-cf588a7ee852",
   "metadata": {},
   "outputs": [],
   "source": []
  }
 ],
 "metadata": {
  "kernelspec": {
   "display_name": "qcnn_hep",
   "language": "python",
   "name": "qcnn_hep"
  },
  "language_info": {
   "codemirror_mode": {
    "name": "ipython",
    "version": 3
   },
   "file_extension": ".py",
   "mimetype": "text/x-python",
   "name": "python",
   "nbconvert_exporter": "python",
   "pygments_lexer": "ipython3",
   "version": "3.8.10"
  }
 },
 "nbformat": 4,
 "nbformat_minor": 5
}
